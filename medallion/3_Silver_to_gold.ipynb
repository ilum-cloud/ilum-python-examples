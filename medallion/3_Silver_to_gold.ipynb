{
 "cells": [
  {
   "cell_type": "markdown",
   "id": "6bacd938-dd24-48a7-bef4-c930e8396b9c",
   "metadata": {
    "pycharm": {
     "name": "#%% md\n"
    }
   },
   "source": [
    "<center><a href=\"https://ilum.cloud\"><img src=\"../logo.svg\" alt=\"ILUM Logo\"></a></center>\n",
    "\n",
    "<center><h1 style=\"padding-left: 32px;\">Silver to Gold</h1></center>\n",
    "<center>Welcome to the Ilum Interactive Capabilities Tutorial! In this section, you can transform the data from the silver layer to meet the assumptions of the gold layer. Let's dive in!</center>\n",
    "</br>"
   ]
  },
  {
   "cell_type": "markdown",
   "id": "7ba63c39-2d2e-468e-b95f-2be20098f2ea",
   "metadata": {
    "execution": {
     "iopub.execute_input": "2024-12-05T16:04:15.567621Z",
     "iopub.status.busy": "2024-12-05T16:04:15.567277Z",
     "iopub.status.idle": "2024-12-05T16:04:15.576364Z",
     "shell.execute_reply": "2024-12-05T16:04:15.575281Z",
     "shell.execute_reply.started": "2024-12-05T16:04:15.567595Z"
    }
   },
   "source": [
    "### The Gold Layer\n",
    "\n",
    "The **Gold Layer** is the topmost layer of the Medallion architecture. It stores data that has been cleansed, transformed, and enriched, ready for analysis and consumption by business users.\n",
    "\n",
    "#### **Typical Data in the Gold Layer**\n",
    "The data stored in the Gold Layer often includes:\n",
    "- **De-duplicated and Reconciled Data**: Ensures accuracy and consistency.\n",
    "- **Complete and Accurate Data**: Contains all necessary fields for analysis.\n",
    "- **Business-Aligned Data**: Meets specific business requirements and objectives.\n",
    "- **Enriched Data**: Augmented with additional information for deeper insights.\n",
    "\n",
    "This data is typically stored in relational databases, data warehouses, or other data marts, either locally or in the cloud.\n",
    "\n",
    "#### **Purpose of the Gold Layer**\n",
    "The Gold Layer serves several essential purposes:\n",
    "- **Single Source of Truth**: Provides a reliable and consistent view of data for business users.\n",
    "- **Facilitates Analysis and Reporting**: Ensures data is ready for advanced analytics and reporting.\n",
    "- **Supports Decision-Making**: Powers strategic and operational decisions across the organization.\n",
    "\n",
    "#### **Applications of Gold Layer Data**\n",
    "Data from the Gold Layer can be used for:\n",
    "- Trend analysis.\n",
    "- Customer behavior analysis.\n",
    "- Financial and operational analysis.\n",
    "- Risk management and forecasting.\n",
    "\n",
    "\n",
    "#### **Summary**\n",
    "The **Gold Layer** is the final step in the Medallion architecture, where data is prepared for use in real-world applications. Here, the data is fully cleaned, organized, and optimized to answer specific business questions or power reports, dashboards, and machine learning models. Building on the structured data from the Silver Layer, the Gold Layer ensures that data is easy to understand, reliable, and ready to drive decisions."
   ]
  },
  {
   "cell_type": "markdown",
   "id": "1128a713-f717-403a-8dea-4846989eb4af",
   "metadata": {},
   "source": [
    "As a next step, let’s walk through an example of transforming data into the Gold Layer.\n",
    "\n",
    "---\n",
    "\n",
    "### Example: Creating the Gold Layer from the Silver Layer\n",
    "\n",
    "In this example, we will transform data from the Silver Layer into the Gold Layer by applying business-specific transformations, aggregations, and enrichment.\n",
    "\n",
    "#### **Step 1: Set Up the Environment**"
   ]
  },
  {
   "cell_type": "markdown",
   "id": "6432d628-6330-4b68-8f31-77ae47c70d46",
   "metadata": {
    "pycharm": {
     "name": "#%% md\n"
    }
   },
   "source": [
    "First, we'll need to load the spark magic extension. You can do this by running the following command:"
   ]
  },
  {
   "cell_type": "code",
   "execution_count": null,
   "id": "c6886af1-0265-48c0-9e02-107ba6dcc28c",
   "metadata": {
    "tags": []
   },
   "outputs": [],
   "source": [
    "%load_ext sparkmagic.magics"
   ]
  },
  {
   "cell_type": "markdown",
   "id": "da9c7240-33cb-4cae-91a9-4ee2e4426cbc",
   "metadata": {
    "pycharm": {
     "name": "#%% md\n"
    }
   },
   "source": [
    "Ilum's Bundled Jupyter is ready to work out of the box and has a predefined endpoint address, which points to ```livy-proxy```. \n",
    "\n",
    "Use **%manage_spark** to create new session. \n",
    "\n",
    "Choose between Scala or Python, adjust Spark settings if necessary, and then click the `Create Session` button. As simple as that. \n",
    "\n",
    "The following example is written in `Python`."
   ]
  },
  {
   "cell_type": "code",
   "execution_count": null,
   "id": "a4ee2106-501a-4fdc-99b3-0ca03aa0e47e",
   "metadata": {
    "tags": []
   },
   "outputs": [],
   "source": [
    "%manage_spark"
   ]
  },
  {
   "cell_type": "markdown",
   "id": "88a3a11e-4521-4ef8-aec0-04b2190626f4",
   "metadata": {
    "pycharm": {
     "name": "#%% md\n"
    }
   },
   "source": [
    "Before we start processing, we need to import the necessary libraries."
   ]
  },
  {
   "cell_type": "code",
   "execution_count": null,
   "id": "de3da6db-24d3-4d02-b2b7-0d6bbea241d8",
   "metadata": {
    "tags": []
   },
   "outputs": [],
   "source": [
    "%%spark\n",
    "\n",
    "    from pyspark.sql.functions import sort_array, collect_list, concat_ws, count"
   ]
  },
  {
   "cell_type": "markdown",
   "id": "68738fba-2428-49d6-bdfa-6816486b9181",
   "metadata": {},
   "source": [
    "**Creating a Dedicated Database for the Use Case**\n",
    "\n",
    "A good practice in data engineering is to separate data within dedicated databases for specific use cases. This approach helps maintain data organization and makes it easier to manage, query, and scale.\n",
    "\n",
    "For this use case, we will create a database named `example_gold`. This will ensure that all data related to this use case is stored in a structured and isolated manner.\n",
    "\n",
    "To create the database, we use the following command:"
   ]
  },
  {
   "cell_type": "code",
   "execution_count": null,
   "id": "de4ed3b1-af17-4295-b11b-bc03e7ec2866",
   "metadata": {},
   "outputs": [],
   "source": [
    "%%spark\n",
    "\n",
    "    spark.sql(\"CREATE DATABASE example_gold\")"
   ]
  },
  {
   "cell_type": "markdown",
   "id": "56c2c898-f80d-4cd9-a52a-d811d4e82add",
   "metadata": {
    "tags": []
   },
   "source": [
    "#### **Step 2: Load Data from the Silver Layer**\n",
    "The first stage of processing in this layer is to read data from the silver layer."
   ]
  },
  {
   "cell_type": "code",
   "execution_count": null,
   "id": "5ceaffdc-3d23-43dd-9e6c-e60f47fa5ecb",
   "metadata": {
    "tags": []
   },
   "outputs": [],
   "source": [
    "%%spark\n",
    "\n",
    "    animals_df = spark.read.table(\"example_silver.animals\")\n",
    "    owners_silver_df = spark.read.table(\"example_silver.owners\")"
   ]
  },
  {
   "cell_type": "markdown",
   "id": "00e66918-4f6a-4f4e-b7d2-ba55be5700be",
   "metadata": {},
   "source": [
    "#### **Step 3: Transform Data for Business Needs**\n",
    "One of the business requirements is to count the number of animals per owner and provide their names in one column."
   ]
  },
  {
   "cell_type": "code",
   "execution_count": null,
   "id": "e0fbd21c-ae78-4f94-a399-98840f3e9d78",
   "metadata": {
    "tags": []
   },
   "outputs": [],
   "source": [
    "%%spark\n",
    "\n",
    "    animals_count = (\n",
    "        animals_df.groupby(\"owner_id\")\n",
    "        .agg(\n",
    "            concat_ws(\", \", sort_array(collect_list(\"animal_name\"))).alias(\"animals_names\"),\n",
    "            count(\"animal_name\").alias(\"animals_qty\"),\n",
    "        )\n",
    "    )\n",
    "    \n",
    "    animals_count.sort(\"owner_id\").show(5)"
   ]
  },
  {
   "cell_type": "markdown",
   "id": "a90a285c-ace7-4fc6-ac09-19d71154078b",
   "metadata": {},
   "source": [
    "Then let's combine it into a result table."
   ]
  },
  {
   "cell_type": "code",
   "execution_count": null,
   "id": "82877ce5-6c72-4235-9fae-37d3685a34a6",
   "metadata": {
    "tags": []
   },
   "outputs": [],
   "source": [
    "%%spark\n",
    "\n",
    "    owners_df = (\n",
    "        owners_silver_df.join(animals_count, animals_count.owner_id == owners_silver_df.owner_id, \"right\")\n",
    "        .select(\n",
    "            owners_silver_df.owner_id,\n",
    "            owners_silver_df.first_name,\n",
    "            owners_silver_df.last_name,\n",
    "            animals_count.animals_names,\n",
    "            animals_count.animals_qty,\n",
    "            owners_silver_df.mobile,\n",
    "            owners_silver_df.email,\n",
    "        )\n",
    "        .sort(\"owner_id\")\n",
    "    )\n",
    "\n",
    "    owners_df.show(5)"
   ]
  },
  {
   "cell_type": "markdown",
   "id": "46ce7587-3f25-4a4a-8f0d-3d185a3ef65a",
   "metadata": {
    "pycharm": {
     "name": "#%% md\n"
    }
   },
   "source": [
    "#### **Step 4: Save Data to the Gold Layer**\n",
    "Save the transformed and enriched data to the Gold Layer in Delta format. \\\n",
    "The use of the delta format in this case allows access to the history of changes and optimizes the amount of memory consumed."
   ]
  },
  {
   "cell_type": "code",
   "execution_count": null,
   "id": "7203e848-a948-437f-ac81-07eed6b45031",
   "metadata": {},
   "outputs": [],
   "source": [
    "%%spark\n",
    "\n",
    "    animals_df.write.format(\"delta\").saveAsTable(\"example_gold.animals\")\n",
    "    owners_df.write.format(\"delta\").saveAsTable(\"example_gold.owners\")"
   ]
  },
  {
   "cell_type": "markdown",
   "id": "fb05d8df-3086-479d-a283-eb66eeb29137",
   "metadata": {},
   "source": [
    "#### **Summary**\n",
    "In this example:\n",
    "\n",
    " - **We loaded data** from the Silver Layer.\n",
    " - **We transformed and enriched the data** by applying business-specific aggregations and calculations.\n",
    " - **We saved the final data** to the Gold Layer in Delta format, making it ready for business consumption. \n",
    "\n",
    "By structuring data in the Gold Layer, businesses can leverage it for trend analysis, customer behavior insights, financial forecasting, and more, enabling smarter, data-driven decisions."
   ]
  },
  {
   "cell_type": "markdown",
   "id": "2b539e6e-0b9d-4c74-9d4e-607164540d0d",
   "metadata": {
    "pycharm": {
     "name": "#%% md\n"
    }
   },
   "source": [
    "### Cleaning up\n",
    "\n",
    "Now that you’re done with your work, you should clean them up to free up resources when they’re no longer in use. \n",
    "Simply click on the Delete buttons!\n",
    "\n",
    "![Ilum session clean](../../images/clean_ilum_jupyter_session.png)"
   ]
  },
  {
   "cell_type": "code",
   "execution_count": null,
   "id": "1af06385-739c-41d1-b4b3-e41a54309e05",
   "metadata": {},
   "outputs": [],
   "source": [
    "%manage_spark"
   ]
  }
 ],
 "metadata": {
  "kernelspec": {
   "display_name": "Python 3 (ipykernel)",
   "language": "python",
   "name": "python3"
  },
  "language_info": {
   "codemirror_mode": {
    "name": "ipython",
    "version": 3
   },
   "file_extension": ".py",
   "mimetype": "text/x-python",
   "name": "python",
   "nbconvert_exporter": "python",
   "pygments_lexer": "ipython3",
   "version": "3.11.10"
  }
 },
 "nbformat": 4,
 "nbformat_minor": 5
}
