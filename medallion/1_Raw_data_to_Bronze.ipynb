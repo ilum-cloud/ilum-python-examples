{
 "cells": [
  {
   "cell_type": "markdown",
   "metadata": {},
   "source": [
    "<center><a href=\"https://ilum.cloud\"><img src=\"../logo.svg\" alt=\"ILUM Logo\"></a></center>\n",
    "\n",
    "<center><h1 style=\"padding-left: 32px;\">Raw data to Bronze</h1></center>\n",
    "<center>Welcome to the Ilum Interactive Capabilities Tutorial! In this section you can load the first batch of data into the bronze layer. Let's dive in!</center>\n",
    "</br>"
   ]
  },
  {
   "cell_type": "markdown",
   "metadata": {
    "execution": {
     "iopub.execute_input": "2024-12-05T14:00:40.698247Z",
     "iopub.status.busy": "2024-12-05T14:00:40.697613Z",
     "iopub.status.idle": "2024-12-05T14:00:40.713836Z",
     "shell.execute_reply": "2024-12-05T14:00:40.712110Z",
     "shell.execute_reply.started": "2024-12-05T14:00:40.698208Z"
    }
   },
   "source": [
    "### The Bronze Layer\n",
    "\n",
    "The **Bronze Layer** is the foundational level of the Medallion architecture, designed to store raw, unprocessed data collected from diverse sources such as ERP systems, CRM platforms, analytical databases, and more.\n",
    "\n",
    "#### **Typical Data in the Bronze Layer**\n",
    "The data stored in the Bronze Layer often includes:\n",
    "- **Transactional Data**: Sales, purchases, production records, etc.\n",
    "- **Demographic Data**: Customer, employee, and supplier information.\n",
    "- **Financial Data**: Accounts, balance sheets, and financial statements.\n",
    "- **Operational Data**: Machine performance metrics and production process details.\n",
    "\n",
    "This data is typically stored in formats such as CSV, JSON, or XML and can reside either in local memory or in the cloud.\n",
    "\n",
    "#### **Purpose of the Bronze Layer**\n",
    "The Bronze Layer serves several critical purposes:\n",
    "- **Raw Data Access**: Acts as a repository for raw, unprocessed data.\n",
    "- **Landing Zone**: Serves as the initial storage location for data from various sources.\n",
    "- **Foundation for Further Processing**: Forms the basis for the Silver Layer in the Medallion architecture.\n",
    "\n",
    "#### **Applications of Bronze Layer Data**\n",
    "Data from the Bronze Layer can be leveraged for:\n",
    "- Analyzing trends and customer behavior.\n",
    "- Identifying opportunities to enhance efficiency.\n",
    "- Supporting informed business decision-making.\n",
    "\n",
    "#### **Summary**\n",
    "The Bronze Layer is a vital component of the Medallion architecture. By providing access to raw data, it enables subsequent layers to process, analyze, and derive valuable insights, ultimately supporting data-driven decision-making across organizations.\n"
   ]
  },
  {
   "cell_type": "markdown",
   "metadata": {},
   "source": [
    "As a continuation, let's now walk through an example of loading data into the **Bronze Layer**.\n",
    "\n",
    "---\n",
    "\n",
    "### Example: Loading Data into the Bronze Layer\n",
    "\n",
    "In this example, we will demonstrate how to load raw data into the Bronze Layer of the Medallion architecture. Let’s assume we have a CSV file containing sales transaction data."
   ]
  },
  {
   "cell_type": "markdown",
   "metadata": {
    "pycharm": {
     "name": "#%% md\n"
    }
   },
   "source": [
    "\n",
    "#### **Step 1: Set Up the Environment**\n",
    "\n",
    "First, we'll need to load the spark magic extension. You can do this by running the following command:"
   ]
  },
  {
   "cell_type": "code",
   "execution_count": null,
   "metadata": {
    "collapsed": false,
    "jupyter": {
     "outputs_hidden": false
    },
    "pycharm": {
     "name": "#%%\n"
    },
    "tags": []
   },
   "outputs": [],
   "source": [
    "%load_ext sparkmagic.magics"
   ]
  },
  {
   "cell_type": "markdown",
   "metadata": {
    "pycharm": {
     "name": "#%% md\n"
    }
   },
   "source": [
    "Ilum's Bundled Jupyter is ready to work out of the box and has a predefined endpoint address, which points to ```livy-proxy```. \n",
    "\n",
    "Use **%manage_spark** to create new session. \n",
    "\n",
    "Choose between Scala or Python, adjust Spark settings if necessary, and then click the `Create Session` button. As simple as that. \n",
    "\n",
    "The following example is written in `Python`."
   ]
  },
  {
   "cell_type": "code",
   "execution_count": null,
   "metadata": {
    "collapsed": false,
    "jupyter": {
     "outputs_hidden": false
    },
    "pycharm": {
     "is_executing": true,
     "name": "#%%\n"
    },
    "tags": []
   },
   "outputs": [],
   "source": [
    "%manage_spark"
   ]
  },
  {
   "cell_type": "markdown",
   "metadata": {},
   "source": [
    "Before we start processing, we need to import the necessary libraries."
   ]
  },
  {
   "cell_type": "code",
   "execution_count": null,
   "metadata": {},
   "outputs": [],
   "source": [
    "%%spark\n",
    "   \n",
    "    import pandas as pd"
   ]
  },
  {
   "cell_type": "markdown",
   "metadata": {},
   "source": [
    "**Creating a Dedicated Database for the Use Case**\n",
    "\n",
    "A good practice in data engineering is to separate data within dedicated databases for specific use cases. This approach helps maintain data organization and makes it easier to manage, query, and scale.\n",
    "\n",
    "For this use case, we will create a database named `example_bronze`. This will ensure that all data related to this use case is stored in a structured and isolated manner.\n",
    "\n",
    "To create the database, we use the following command:"
   ]
  },
  {
   "cell_type": "code",
   "execution_count": null,
   "metadata": {},
   "outputs": [],
   "source": [
    "%%spark\n",
    "\n",
    "    spark.sql(\"CREATE DATABASE example_bronze\")"
   ]
  },
  {
   "cell_type": "markdown",
   "metadata": {
    "execution": {
     "iopub.execute_input": "2024-12-05T14:16:17.377528Z",
     "iopub.status.busy": "2024-12-05T14:16:17.376201Z",
     "iopub.status.idle": "2024-12-05T14:16:17.382466Z",
     "shell.execute_reply": "2024-12-05T14:16:17.381376Z",
     "shell.execute_reply.started": "2024-12-05T14:16:17.377470Z"
    }
   },
   "source": [
    "#### **Step 2: Load Raw Data**\n",
    "The second step is to push the data into the bronze layer. This is usually done automatically from many different sources, but for this notebook the test data will be loaded manually.\n",
    "\n",
    "Below, each of the three sample data packages is downloaded from a remote repository without any processing.\n",
    "\n",
    "**Animals:**"
   ]
  },
  {
   "cell_type": "code",
   "execution_count": null,
   "metadata": {
    "tags": []
   },
   "outputs": [],
   "source": [
    "%%spark\n",
    "\n",
    "    animals_url = 'https://raw.githubusercontent.com/ilum-cloud/ilum-python-examples/main/animals.csv'\n",
    "    \n",
    "    animals_df = spark.createDataFrame(pd.read_csv(animals_url))\n",
    "    animals_df.printSchema()\n",
    "    animals_df.show(5)"
   ]
  },
  {
   "cell_type": "markdown",
   "metadata": {},
   "source": [
    "**Owners:**"
   ]
  },
  {
   "cell_type": "code",
   "execution_count": null,
   "metadata": {
    "tags": []
   },
   "outputs": [],
   "source": [
    "%%spark\n",
    "\n",
    "    owners_url = 'https://raw.githubusercontent.com/ilum-cloud/ilum-python-examples/main/owners.csv'\n",
    "\n",
    "    owners_df = spark.createDataFrame(pd.read_csv(owners_url))\n",
    "    owners_df.printSchema()\n",
    "    owners_df.show(5)"
   ]
  },
  {
   "cell_type": "markdown",
   "metadata": {},
   "source": [
    "**Species:**"
   ]
  },
  {
   "cell_type": "code",
   "execution_count": null,
   "metadata": {
    "tags": []
   },
   "outputs": [],
   "source": [
    "%%spark\n",
    "    \n",
    "    species_url = 'https://raw.githubusercontent.com/ilum-cloud/ilum-python-examples/main/species.csv'\n",
    "\n",
    "    species_df = spark.createDataFrame(pd.read_csv(species_url))\n",
    "    species_df.printSchema()\n",
    "    species_df.show(5)"
   ]
  },
  {
   "cell_type": "markdown",
   "metadata": {
    "execution": {
     "iopub.execute_input": "2024-12-05T14:29:00.592662Z",
     "iopub.status.busy": "2024-12-05T14:29:00.592151Z",
     "iopub.status.idle": "2024-12-05T14:29:00.601806Z",
     "shell.execute_reply": "2024-12-05T14:29:00.599630Z",
     "shell.execute_reply.started": "2024-12-05T14:29:00.592630Z"
    }
   },
   "source": [
    "#### **Step 3: Save Data to the Bronze Layer**\n",
    "In this step, we will save the raw data to a dedicated Bronze Layer location. Since Ilum provides integrated S3 storage, no credentials are required to access the storage."
   ]
  },
  {
   "cell_type": "code",
   "execution_count": null,
   "metadata": {},
   "outputs": [],
   "source": [
    "%%spark\n",
    "\n",
    "    animals_df.write.format(\"csv\").saveAsTable(\"example_bronze.animals\")\n",
    "    owners_df.write.format(\"csv\").saveAsTable(\"example_bronze.owners\")\n",
    "    species_df.write.format(\"csv\").saveAsTable(\"example_bronze.species\")"
   ]
  },
  {
   "cell_type": "markdown",
   "metadata": {
    "jp-MarkdownHeadingCollapsed": true
   },
   "source": [
    "#### **Summary**\n",
    "In this example:\n",
    " - **We loaded raw data** from a CSV file containing sales transactions.\n",
    " - **We saved the data in CSV format** to a dedicated Bronze Layer location using Ilum's integrated S3 storage.\n",
    "\n",
    "Storing raw data in the Bronze Layer this way ensures a solid foundation for further processing and analysis in the higher layers of the Medallion architecture."
   ]
  },
  {
   "cell_type": "markdown",
   "metadata": {},
   "source": [
    "### Cleaning up\n",
    "\n",
    "Now that you’re done with your work, you should clean them up to free up resources when they’re no longer in use. \n",
    "Simply click on the Delete buttons!\n",
    "\n",
    "![Ilum session clean](../../images/clean_ilum_jupyter_session.png)"
   ]
  },
  {
   "cell_type": "code",
   "execution_count": null,
   "metadata": {},
   "outputs": [],
   "source": [
    "%manage_spark"
   ]
  },
  {
   "cell_type": "markdown",
   "metadata": {},
   "source": [
    "#### [Click here to proceed to the \"Bronze to silver\" section.](2_Bronze_to_silver.ipynb)\n",
    "\n"
   ]
  }
 ],
 "metadata": {
  "kernelspec": {
   "display_name": "Python 3 (ipykernel)",
   "language": "python",
   "name": "python3"
  },
  "language_info": {
   "codemirror_mode": {
    "name": "ipython",
    "version": 3
   },
   "file_extension": ".py",
   "mimetype": "text/x-python",
   "name": "python",
   "nbconvert_exporter": "python",
   "pygments_lexer": "ipython3",
   "version": "3.11.10"
  }
 },
 "nbformat": 4,
 "nbformat_minor": 4
}
